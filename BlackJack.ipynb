{
  "cells": [
    {
      "cell_type": "markdown",
      "source": [
        "**Welcome to the Black Jack game !!**\n",
        "\n",
        "Code for the game is in the last cell."
      ],
      "metadata": {
        "id": "hANbo8E_a_Ax"
      }
    },
    {
      "cell_type": "code",
      "source": [
        "import time\n",
        "\n",
        "def pause():\n",
        "    time.sleep(1)\n",
        "    print()"
      ],
      "metadata": {
        "id": "P68-a6rkXEdO"
      },
      "execution_count": 1,
      "outputs": []
    },
    {
      "cell_type": "code",
      "execution_count": 2,
      "metadata": {
        "id": "JAAm7hjCQNG5"
      },
      "outputs": [],
      "source": [
        "global betCash\n",
        "global plyrCards\n",
        "global dealerCards\n",
        "global player\n",
        "global cards"
      ]
    },
    {
      "cell_type": "code",
      "execution_count": 3,
      "metadata": {
        "colab": {
          "base_uri": "https://localhost:8080/"
        },
        "id": "h-TSMknjQNG6",
        "outputId": "d162c8fd-acb9-414e-c135-80919f9b5280"
      },
      "outputs": [
        {
          "output_type": "stream",
          "name": "stdout",
          "text": [
            "Requirement already satisfied: num2Words in /usr/local/lib/python3.7/dist-packages (0.5.10)\n",
            "Requirement already satisfied: docopt>=0.6.2 in /usr/local/lib/python3.7/dist-packages (from num2Words) (0.6.2)\n"
          ]
        }
      ],
      "source": [
        "!pip install num2Words\n",
        "import num2words"
      ]
    },
    {
      "cell_type": "code",
      "execution_count": 4,
      "metadata": {
        "id": "IeQzsAW2QNG7"
      },
      "outputs": [],
      "source": [
        "import random"
      ]
    },
    {
      "cell_type": "code",
      "execution_count": 5,
      "metadata": {
        "colab": {
          "base_uri": "https://localhost:8080/"
        },
        "id": "O3mJwrN6QNG9",
        "outputId": "fa39a92f-09d2-441a-ed3d-74c615caa495"
      },
      "outputs": [
        {
          "output_type": "stream",
          "name": "stdout",
          "text": [
            "Requirement already satisfied: word2number in /usr/local/lib/python3.7/dist-packages (1.1)\n"
          ]
        }
      ],
      "source": [
        "!pip install word2number\n",
        "from word2number import w2n"
      ]
    },
    {
      "cell_type": "code",
      "execution_count": 6,
      "metadata": {
        "id": "_1t9IC8wQNG-"
      },
      "outputs": [],
      "source": [
        "def numof(string):\n",
        "    try:\n",
        "        num=w2n.word_to_num(string)\n",
        "    except:\n",
        "        if string=='ace':\n",
        "            num=11\n",
        "        else:\n",
        "            num=10\n",
        "        \n",
        "    return num\n",
        "    "
      ]
    },
    {
      "cell_type": "code",
      "execution_count": 7,
      "metadata": {
        "colab": {
          "base_uri": "https://localhost:8080/"
        },
        "id": "UKFdu-cFQNHB",
        "outputId": "30f09523-53b5-496b-a0f4-a51f535168d0"
      },
      "outputs": [
        {
          "output_type": "execute_result",
          "data": {
            "text/plain": [
              "11"
            ]
          },
          "metadata": {},
          "execution_count": 7
        }
      ],
      "source": [
        "numof('ace')"
      ]
    },
    {
      "cell_type": "code",
      "execution_count": 8,
      "metadata": {
        "id": "S1WzZSmRQNHJ"
      },
      "outputs": [],
      "source": [
        "def rules():\n",
        "    print('BlackJack\\nRules\\nTry to get card sum close to 21 but not greater than 21\\nyou are given 100 bucks balance\\nhit--take card  stand--close your chance')"
      ]
    },
    {
      "cell_type": "code",
      "execution_count": 9,
      "metadata": {
        "id": "NnKbSGbYQNHJ"
      },
      "outputs": [],
      "source": [
        "def makeSet(name):\n",
        "    \n",
        "    lst=[name + ' ' + 'ace']\n",
        "    \n",
        "    for i in range(2,11):\n",
        "        lst.append(name + ' ' + num2words.num2words(i))\n",
        "        \n",
        "    lst.append(name + ' ' + 'jack')\n",
        "    lst.append(name + ' ' + 'queen')\n",
        "    lst.append(name + ' ' + 'king')\n",
        "    \n",
        "    return lst"
      ]
    },
    {
      "cell_type": "code",
      "execution_count": 10,
      "metadata": {
        "colab": {
          "base_uri": "https://localhost:8080/",
          "height": 35
        },
        "id": "0k_PaincQNHK",
        "outputId": "37cc70b6-4392-4936-f014-9696160fb882"
      },
      "outputs": [
        {
          "output_type": "execute_result",
          "data": {
            "application/vnd.google.colaboratory.intrinsic+json": {
              "type": "string"
            },
            "text/plain": [
              "'k three'"
            ]
          },
          "metadata": {},
          "execution_count": 10
        }
      ],
      "source": [
        "set1=makeSet('k')\n",
        "set1[2]"
      ]
    },
    {
      "cell_type": "code",
      "execution_count": 11,
      "metadata": {
        "id": "-mHKMLebQNHK"
      },
      "outputs": [],
      "source": [
        "class Account:\n",
        "    \n",
        "    def __init__(self,name,balance=100):\n",
        "        self.name=name\n",
        "        self.balance=balance\n",
        "        \n",
        "    def bet(self,amount):\n",
        "        if(amount>self.balance):\n",
        "            print(\"you don't have enough balance for this bet\")\n",
        "            return -1\n",
        "        if amount<0:\n",
        "            print(\"please, enter bet amount\")\n",
        "            return -1\n",
        "        if amount==0:\n",
        "            print(\"It gonna be friendly match !!\")\n",
        "            return 1\n",
        "        \n",
        "        self.balance-=amount\n",
        "        print('BEST OF LUCK!!')\n",
        "        return 1\n",
        "        \n",
        "    \n",
        "\n",
        "                  "
      ]
    },
    {
      "cell_type": "code",
      "execution_count": 12,
      "metadata": {
        "id": "mH5vIt21QNHL"
      },
      "outputs": [],
      "source": [
        "def makeCards():\n",
        "\n",
        "    global cards\n",
        "    \n",
        "    cards=[]\n",
        "    \n",
        "    setkali=makeSet('kali')\n",
        "    setlal=makeSet('lal')\n",
        "    setfallai=makeSet('fallai')\n",
        "    setcharkat=makeSet('charkat')\n",
        "    \n",
        "    for i in range(0,13):\n",
        "        cards.append(setkali[i])\n",
        "        cards.append(setlal[i])\n",
        "        cards.append(setfallai[i])\n",
        "        cards.append(setcharkat[i])\n",
        "        \n",
        "    \n",
        "    "
      ]
    },
    {
      "cell_type": "code",
      "execution_count": 13,
      "metadata": {
        "id": "fX-lFq4ZQNHL"
      },
      "outputs": [],
      "source": [
        "makeCards()\n",
        "#cards"
      ]
    },
    {
      "cell_type": "code",
      "execution_count": 14,
      "metadata": {
        "id": "6A2rCYCkQNHL"
      },
      "outputs": [],
      "source": [
        "def getCard():\n",
        "    random.shuffle(cards)\n",
        "    poped=cards.pop()\n",
        "    \n",
        "    return poped"
      ]
    },
    {
      "cell_type": "code",
      "execution_count": 15,
      "metadata": {
        "colab": {
          "base_uri": "https://localhost:8080/",
          "height": 35
        },
        "id": "GwpVbz2eQNHM",
        "outputId": "361a7e85-191a-4928-bbd0-996ec26e9da4"
      },
      "outputs": [
        {
          "output_type": "execute_result",
          "data": {
            "application/vnd.google.colaboratory.intrinsic+json": {
              "type": "string"
            },
            "text/plain": [
              "'lal five'"
            ]
          },
          "metadata": {},
          "execution_count": 15
        }
      ],
      "source": [
        "getCard()"
      ]
    },
    {
      "cell_type": "code",
      "execution_count": 16,
      "metadata": {
        "id": "qZTTLY9sQNHM"
      },
      "outputs": [],
      "source": [
        "def getCardStr(lst):\n",
        "        cards=[]\n",
        "        for i in lst:\n",
        "            words=i.split()\n",
        "            cards.append(words[1])\n",
        "        return cards"
      ]
    },
    {
      "cell_type": "code",
      "execution_count": 17,
      "metadata": {
        "id": "oCOrwe3YQNHM"
      },
      "outputs": [],
      "source": [
        "def handCheck(i,lst):\n",
        "    if i>21 and 'ace' in lst:\n",
        "        return i-10\n",
        "    else:\n",
        "        return i\n",
        "        \n",
        "        "
      ]
    },
    {
      "cell_type": "code",
      "execution_count": 18,
      "metadata": {
        "colab": {
          "base_uri": "https://localhost:8080/"
        },
        "id": "ZrcTDoMuQNHN",
        "outputId": "42c86a9a-852f-46d2-f66d-523974cf735a"
      },
      "outputs": [
        {
          "output_type": "execute_result",
          "data": {
            "text/plain": [
              "21"
            ]
          },
          "metadata": {},
          "execution_count": 18
        }
      ],
      "source": [
        "handCheck(21,['ace','jack'])"
      ]
    },
    {
      "cell_type": "code",
      "execution_count": 19,
      "metadata": {
        "id": "Ha6NeTxnQNHN"
      },
      "outputs": [],
      "source": [
        "def cardSum(lst):\n",
        "    total=0\n",
        "    \n",
        "    lst1=getCardStr(lst)\n",
        "    \n",
        "    for i in lst1:\n",
        "        total=total+numof(i)\n",
        "        \n",
        "    total=handCheck(total,lst1)\n",
        "        \n",
        "    return total"
      ]
    },
    {
      "cell_type": "code",
      "execution_count": 20,
      "metadata": {
        "id": "KT--LQPiQNHO"
      },
      "outputs": [],
      "source": [
        "lst=['kali jack','kali ace']"
      ]
    },
    {
      "cell_type": "code",
      "execution_count": 21,
      "metadata": {
        "colab": {
          "base_uri": "https://localhost:8080/"
        },
        "id": "YIvUB1BcQNHO",
        "outputId": "129e138c-0577-4e3d-f5ec-5253862e8745"
      },
      "outputs": [
        {
          "output_type": "execute_result",
          "data": {
            "text/plain": [
              "21"
            ]
          },
          "metadata": {},
          "execution_count": 21
        }
      ],
      "source": [
        "cardSum(lst)"
      ]
    },
    {
      "cell_type": "code",
      "execution_count": 22,
      "metadata": {
        "colab": {
          "base_uri": "https://localhost:8080/"
        },
        "id": "f0buPzR9QNHP",
        "outputId": "5ba818dc-d63d-4133-8aa6-822899de1481"
      },
      "outputs": [
        {
          "output_type": "stream",
          "name": "stdout",
          "text": [
            "BlackJack\n",
            "Rules\n",
            "Try to get card sum close to 21 but not greater than 21\n",
            "you are given 100 bucks balance\n",
            "hit--take card  stand--close your chance\n"
          ]
        }
      ],
      "source": [
        "rules()"
      ]
    },
    {
      "cell_type": "code",
      "execution_count": 23,
      "metadata": {
        "id": "JoOk4mACQNHQ"
      },
      "outputs": [],
      "source": [
        "def showData():\n",
        "    print(f'Name: {player.name}')\n",
        "    print(f'Balance: {player.balance} bucks')\n"
      ]
    },
    {
      "cell_type": "code",
      "execution_count": 24,
      "metadata": {
        "id": "Lzxrf3GfQNHQ"
      },
      "outputs": [],
      "source": [
        "def playerShow():\n",
        "    print(f\"{player.name},your cards are:\")\n",
        "    for i in plyrCards:\n",
        "        print(i)"
      ]
    },
    {
      "cell_type": "code",
      "execution_count": 25,
      "metadata": {
        "id": "w51JHgROQNHQ"
      },
      "outputs": [],
      "source": [
        "def jackCheck():\n",
        "    return cardSum(plyrCards)==21"
      ]
    },
    {
      "cell_type": "markdown",
      "metadata": {
        "id": "37DEuK_bQNHR"
      },
      "source": [
        "**Functions are --> makeSet,playerShow,showData,cardSum,getCard**"
      ]
    },
    {
      "cell_type": "code",
      "execution_count": 26,
      "metadata": {
        "id": "rMpCjSC9QNHU"
      },
      "outputs": [],
      "source": [
        "def dealerSemiShow():\n",
        "    print(\"Dealer's Cards:\")\n",
        "    print('<*******>')\n",
        "    for i in range(1,len(dealerCards)):\n",
        "        print(dealerCards[i])"
      ]
    },
    {
      "cell_type": "code",
      "execution_count": 27,
      "metadata": {
        "id": "qlk9g8R4QNHV"
      },
      "outputs": [],
      "source": [
        "def dealerShow():\n",
        "    print(\"Dealer's Cards:\")\n",
        "    for i in dealerCards:\n",
        "        print(i)"
      ]
    },
    {
      "cell_type": "code",
      "execution_count": 28,
      "metadata": {
        "id": "qBWyVMF8QNHV"
      },
      "outputs": [],
      "source": [
        "def pc(i):\n",
        "    global betCash\n",
        "    global plyrCards\n",
        "    global dealerCards\n",
        "    global player\n",
        "    global cards\n",
        "    for i in range(i):\n",
        "        plyrCards.append(getCard())"
      ]
    },
    {
      "cell_type": "code",
      "execution_count": 29,
      "metadata": {
        "id": "bG1UA97iQNHW"
      },
      "outputs": [],
      "source": [
        "def dc(i):\n",
        "    global betCash\n",
        "    global plyrCards\n",
        "    global dealerCards\n",
        "    global player\n",
        "    global cards\n",
        "    for i in range(i):\n",
        "        dealerCards.append(getCard())\n",
        "        "
      ]
    },
    {
      "cell_type": "code",
      "execution_count": 30,
      "metadata": {
        "id": "JMObYQdcQNHX"
      },
      "outputs": [],
      "source": [
        "def takeBet():\n",
        "    while True:\n",
        "        try:\n",
        "            bet=int(input('bet for:\\n'))\n",
        "        except:\n",
        "            print('please enter bet amount')\n",
        "        else:\n",
        "            if player.bet(bet)==1:\n",
        "                break\n",
        "    return bet"
      ]
    },
    {
      "cell_type": "code",
      "execution_count": 31,
      "metadata": {
        "id": "tJo9fEddQNHY"
      },
      "outputs": [],
      "source": [
        "def start():\n",
        "    global player\n",
        "    player=Account('None',100)\n",
        "\n",
        "    global plyrCards\n",
        "    plyrCards=[]\n",
        "\n",
        "    global dealerCards\n",
        "    dealerCards=[]\n",
        "\n",
        "    rules()\n",
        "    \n",
        "    pause()\n",
        "    \n",
        "    name_player=input('name:\\n')\n",
        "    player=Account(name_player)\n",
        "    pause()\n",
        "    print('Account created')\n",
        "    pause()\n",
        "    showData()\n",
        "    pause()\n"
      ]
    },
    {
      "cell_type": "code",
      "execution_count": 32,
      "metadata": {
        "id": "fbIaMJlIQNHY"
      },
      "outputs": [],
      "source": [
        "def begins():\n",
        "    global betCash\n",
        "    global plyrCards\n",
        "    global dealerCards\n",
        "    global player\n",
        "    global cards\n",
        "    makeCards()\n",
        "    plyrCards=[]\n",
        "    dealerCards=[]\n",
        "    print('WELCOME !! ')\n",
        "    pause()\n",
        "    betCash=takeBet() \n",
        "    pc(2)\n",
        "    dc(2)\n",
        "\n",
        "    pause()\n",
        "    dealerSemiShow()\n",
        "    pause()\n",
        "    playerShow()\n",
        "    pause()"
      ]
    },
    {
      "cell_type": "code",
      "execution_count": 33,
      "metadata": {
        "id": "WXATHHcJQNHZ"
      },
      "outputs": [],
      "source": [
        "#start()\n",
        "#begins()"
      ]
    },
    {
      "cell_type": "code",
      "execution_count": 34,
      "metadata": {
        "id": "Lq-ZOR_gQNHa"
      },
      "outputs": [],
      "source": [
        "def game():\n",
        "    \n",
        "    begins()\n",
        "    global betCash\n",
        "    global plyrCards\n",
        "    global dealerCards\n",
        "    global player\n",
        "    global cards\n",
        "\n",
        "    \n",
        "    if jackCheck():\n",
        "        print(f\"CONGRATULATIONS\\nYou got ++1.5*bet --> ++1.5*{betCash}\\n'{player.name}' THE BLACKJACK WINNER\")\n",
        "        player.balance+=2.5*betCash\n",
        "        pause()\n",
        "        showData()\n",
        "        return None;\n",
        "        \n",
        "    \n",
        "    choose=input('hit or stand?h/s\\n')\n",
        "    pause()\n",
        "    \n",
        "    while choose=='h':\n",
        "        pc(1)\n",
        "        dealerSemiShow()\n",
        "        pause()\n",
        "        playerShow()\n",
        "        pause()\n",
        "\n",
        "        if cardSum(plyrCards)>21:\n",
        "            print(f'{player.name},you got busted\\nBetter luck next time')\n",
        "            pause()\n",
        "            break\n",
        "\n",
        "        choose=input('hit or stand?h/s\\n')\n",
        "        pause()\n",
        "\n",
        "    if choose=='s':\n",
        "        print(\"Dealer's chance:\")\n",
        "        pause()\n",
        "\n",
        "        dealerSemiShow()\n",
        "        pause()\n",
        "        playerShow()\n",
        "        pause()\n",
        "\n",
        "        while cardSum(dealerCards)<17:\n",
        "            dc(1)\n",
        "            dealerSemiShow()\n",
        "            pause()\n",
        "            playerShow()\n",
        "            pause()\n",
        "            if cardSum(dealerCards)>21:\n",
        "                dealerShow()\n",
        "                pause\n",
        "                playerShow()\n",
        "                pause()\n",
        "                player.balance+=2*betCash\n",
        "                print('Dealer Busted')\n",
        "                print(f'Congratulations!!\\n{player.name},you won the match')\n",
        "                pause()\n",
        "                break\n",
        "\n",
        "        if cardSum(dealerCards)<=21:\n",
        "            dealerShow()\n",
        "            pause()\n",
        "            playerShow()\n",
        "            pause()\n",
        "            if cardSum(plyrCards)>cardSum(dealerCards):\n",
        "                print(f'Congratulations!!\\n{player.name},you won the match')\n",
        "                player.balance+=2*betCash\n",
        "                pause()\n",
        "\n",
        "            elif cardSum(plyrCards)==cardSum(dealerCards):\n",
        "                print(f\"Tie!!\\nIt's a push !!\\nNothing to win,but nothing to loose\")\n",
        "                player.balance+=betCash\n",
        "                pause()\n",
        "\n",
        "            else:\n",
        "                print(f'Dealer Won\\n{player.name},better luck next time')\n",
        "                pause()\n",
        "    pause()\n",
        "    showData()\n"
      ]
    },
    {
      "cell_type": "markdown",
      "metadata": {
        "id": "T2DvDuJRQNHa"
      },
      "source": [
        "****THE BLACKJACK****"
      ]
    },
    {
      "cell_type": "code",
      "execution_count": 35,
      "metadata": {
        "colab": {
          "base_uri": "https://localhost:8080/"
        },
        "id": "H5E3u3NSQNHb",
        "outputId": "b9602f3a-c301-4d00-aff6-a04f21c03a0e"
      },
      "outputs": [
        {
          "output_type": "stream",
          "name": "stdout",
          "text": [
            "BlackJack\n",
            "Rules\n",
            "Try to get card sum close to 21 but not greater than 21\n",
            "you are given 100 bucks balance\n",
            "hit--take card  stand--close your chance\n",
            "\n",
            "name:\n",
            "Kathan\n",
            "\n",
            "Account created\n",
            "\n",
            "Name: Kathan\n",
            "Balance: 100 bucks\n",
            "\n",
            "WELCOME !! \n",
            "\n",
            "bet for:\n",
            "20\n",
            "BEST OF LUCK!!\n",
            "\n",
            "Dealer's Cards:\n",
            "<*******>\n",
            "lal jack\n",
            "\n",
            "Kathan,your cards are:\n",
            "kali king\n",
            "charkat queen\n",
            "\n",
            "hit or stand?h/s\n",
            "s\n",
            "\n",
            "Dealer's chance:\n",
            "\n",
            "Dealer's Cards:\n",
            "<*******>\n",
            "lal jack\n",
            "\n",
            "Kathan,your cards are:\n",
            "kali king\n",
            "charkat queen\n",
            "\n",
            "Dealer's Cards:\n",
            "<*******>\n",
            "lal jack\n",
            "lal nine\n",
            "\n",
            "Kathan,your cards are:\n",
            "kali king\n",
            "charkat queen\n",
            "\n",
            "Dealer's Cards:\n",
            "lal five\n",
            "lal jack\n",
            "lal nine\n",
            "Kathan,your cards are:\n",
            "kali king\n",
            "charkat queen\n",
            "\n",
            "Dealer Busted\n",
            "Congratulations!!\n",
            "Kathan,you won the match\n",
            "\n",
            "\n",
            "Name: Kathan\n",
            "Balance: 120 bucks\n",
            "\n",
            "Wanna play more?y/n\n",
            "n\n",
            "\n",
            "\n",
            "Name: Kathan\n",
            "Balance: 120 bucks\n",
            "Dealer:I am sure that you had fun\n",
            "GOODBYE,Kathan !!\n"
          ]
        }
      ],
      "source": [
        "start()\n",
        "play='y'\n",
        "\n",
        "while(play=='y'):\n",
        "    game()\n",
        "    pause()\n",
        "    if player.balance == 0:\n",
        "        print(f'Sorry,{player.name}\\nNow, you can only play friendly match with 0 as bet amount')\n",
        "        pause()\n",
        "    play=input('Wanna play more?y/n\\n')\n",
        "    pause()\n",
        "    \n",
        "pause()\n",
        "showData()\n",
        "print(f'Dealer:I am sure that you had fun\\nGOODBYE,{player.name} !!')"
      ]
    },
    {
      "cell_type": "code",
      "execution_count": 35,
      "metadata": {
        "id": "ZWMEYpqUQNHb"
      },
      "outputs": [],
      "source": [
        ""
      ]
    }
  ],
  "metadata": {
    "kernelspec": {
      "display_name": "Python 3",
      "language": "python",
      "name": "python3"
    },
    "language_info": {
      "codemirror_mode": {
        "name": "ipython",
        "version": 3
      },
      "file_extension": ".py",
      "mimetype": "text/x-python",
      "name": "python",
      "nbconvert_exporter": "python",
      "pygments_lexer": "ipython3",
      "version": "3.7.3"
    },
    "colab": {
      "name": "BlackJack.ipynb",
      "provenance": [],
      "collapsed_sections": []
    }
  },
  "nbformat": 4,
  "nbformat_minor": 0
}