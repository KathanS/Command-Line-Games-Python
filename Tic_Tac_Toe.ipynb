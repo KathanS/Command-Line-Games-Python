{
  "cells": [
    {
      "cell_type": "markdown",
      "source": [
        "**Welcome to Tic Tac Toe !!**\n",
        "\n",
        "code for the game is in the last cell."
      ],
      "metadata": {
        "id": "-n00EUhMcSYV"
      }
    },
    {
      "cell_type": "markdown",
      "metadata": {
        "id": "Itfn-Uw5ZEfD"
      },
      "source": [
        "making functions for displaying board for each move given as input"
      ]
    },
    {
      "cell_type": "code",
      "execution_count": 1,
      "metadata": {
        "id": "T5Fi1oWMZEfK"
      },
      "outputs": [],
      "source": [
        "locs=[]\n",
        "\n",
        "for _ in range(9):\n",
        "    locs.append(' ')\n",
        "\n"
      ]
    },
    {
      "cell_type": "code",
      "execution_count": 2,
      "metadata": {
        "id": "U8TCZD3TZEfM"
      },
      "outputs": [],
      "source": [
        "sign = 'x'"
      ]
    },
    {
      "cell_type": "code",
      "execution_count": 3,
      "metadata": {
        "id": "psqOPQ1uZEfO"
      },
      "outputs": [],
      "source": [
        "def board():\n",
        "    global locs\n",
        "    args=locs\n",
        "    i=0\n",
        "    print(\" __ __ __\")\n",
        "    for _ in range(3):\n",
        "        #print(f\"|  |  |  \",end=\"\")\n",
        "        for j in range(3):\n",
        "            print(f\"|{args[i]} \",end=\"\")\n",
        "            i=i+1\n",
        "        print(f\"|\")\n",
        "        print(f\"|__|__|__|\")\n",
        "\n",
        "        "
      ]
    },
    {
      "cell_type": "code",
      "execution_count": 4,
      "metadata": {
        "id": "8R6CGtV-ZEfQ"
      },
      "outputs": [],
      "source": [
        "def locsmaker(location,sign):\n",
        "    global locs\n",
        "    locs[location-1]=sign\n",
        "    "
      ]
    },
    {
      "cell_type": "code",
      "execution_count": 5,
      "metadata": {
        "colab": {
          "base_uri": "https://localhost:8080/"
        },
        "id": "eIFWY6ezZEfR",
        "outputId": "dbce38f1-17ed-47dc-ef5d-bddd7565c858"
      },
      "outputs": [
        {
          "output_type": "stream",
          "name": "stdout",
          "text": [
            " __ __ __\n",
            "|  |  |  |\n",
            "|__|__|__|\n",
            "|  |  |  |\n",
            "|__|__|__|\n",
            "|  |  |  |\n",
            "|__|__|__|\n"
          ]
        }
      ],
      "source": [
        "board()"
      ]
    },
    {
      "cell_type": "code",
      "execution_count": 6,
      "metadata": {
        "id": "XlmUXJ3BZEfT"
      },
      "outputs": [],
      "source": [
        "locsmaker(1,'x')"
      ]
    },
    {
      "cell_type": "code",
      "execution_count": 7,
      "metadata": {
        "colab": {
          "base_uri": "https://localhost:8080/"
        },
        "id": "5CQrWJjPZEfV",
        "outputId": "ad880cd0-7806-4a91-b5f3-04c1c20f2a2f"
      },
      "outputs": [
        {
          "output_type": "stream",
          "name": "stdout",
          "text": [
            " __ __ __\n",
            "|x |  |  |\n",
            "|__|__|__|\n",
            "|  |  |  |\n",
            "|__|__|__|\n",
            "|  |  |  |\n",
            "|__|__|__|\n"
          ]
        }
      ],
      "source": [
        "board()"
      ]
    },
    {
      "cell_type": "markdown",
      "metadata": {
        "id": "VB9UFrMKZEfW"
      },
      "source": [
        "completed"
      ]
    },
    {
      "cell_type": "code",
      "execution_count": 8,
      "metadata": {
        "colab": {
          "base_uri": "https://localhost:8080/"
        },
        "id": "s1aYs4dCZEfX",
        "outputId": "15894d8e-8a71-4b03-ed26-066fcfe18d29"
      },
      "outputs": [
        {
          "output_type": "execute_result",
          "data": {
            "text/plain": [
              "['x', ' ', ' ', ' ', ' ', ' ', ' ', ' ', ' ']"
            ]
          },
          "metadata": {},
          "execution_count": 8
        }
      ],
      "source": [
        "#testing\n",
        "locs"
      ]
    },
    {
      "cell_type": "code",
      "execution_count": 9,
      "metadata": {
        "id": "TMSOJw-PZEfX"
      },
      "outputs": [],
      "source": [
        "def winChecker():\n",
        "    global locs\n",
        "    args=locs\n",
        "    for i in range(3):\n",
        "        j=3*i\n",
        "        if(args[j]==args[j+1]==args[j+2] and (args[j]=='x' or args[j]=='o')):\n",
        "            #print(1)\n",
        "            return True\n",
        "    for i in range(3):\n",
        "        j=i\n",
        "        if(args[j]==args[j+3]==args[j+6] and (args[j]=='x' or args[j]=='o')):\n",
        "            #print(2)\n",
        "            return True\n",
        "    if(args[0]==args[4]==args[8] and (args[0]=='x' or args[0]=='o')):\n",
        "        #print(3)\n",
        "        return True\n",
        "    \n",
        "    if(args[2]==args[4]==args[6] and (args[2]=='x' or args[2]=='o')):\n",
        "        #print(4)\n",
        "        return True\n",
        "\n",
        "    return False"
      ]
    },
    {
      "cell_type": "code",
      "execution_count": 10,
      "metadata": {
        "colab": {
          "base_uri": "https://localhost:8080/"
        },
        "id": "_tccTmMaZEfY",
        "outputId": "6b18d2b4-ce23-4243-886e-97c02e3c7a47"
      },
      "outputs": [
        {
          "output_type": "execute_result",
          "data": {
            "text/plain": [
              "['x', ' ', ' ', ' ', ' ', ' ', ' ', ' ', ' ']"
            ]
          },
          "metadata": {},
          "execution_count": 10
        }
      ],
      "source": [
        "locs"
      ]
    },
    {
      "cell_type": "code",
      "execution_count": 11,
      "metadata": {
        "colab": {
          "base_uri": "https://localhost:8080/"
        },
        "id": "3HUXCxi5ZEfZ",
        "outputId": "f83e6491-a5b9-4862-84e3-3a7c39d39042"
      },
      "outputs": [
        {
          "output_type": "execute_result",
          "data": {
            "text/plain": [
              "False"
            ]
          },
          "metadata": {},
          "execution_count": 11
        }
      ],
      "source": [
        "winChecker()"
      ]
    },
    {
      "cell_type": "code",
      "execution_count": 12,
      "metadata": {
        "id": "OrOudNeAZEfa"
      },
      "outputs": [],
      "source": [
        "#testing winChecker"
      ]
    },
    {
      "cell_type": "code",
      "execution_count": 13,
      "metadata": {
        "id": "ff3LY2skZEfa"
      },
      "outputs": [],
      "source": [
        "locs=['x','o','x',' ',' ',' ',' ',' ',' ',' ']"
      ]
    },
    {
      "cell_type": "code",
      "execution_count": 14,
      "metadata": {
        "colab": {
          "base_uri": "https://localhost:8080/"
        },
        "id": "O8J5wFkFZEfb",
        "outputId": "a35d78d8-a7ac-44b8-ac81-469b2b938a7e"
      },
      "outputs": [
        {
          "output_type": "execute_result",
          "data": {
            "text/plain": [
              "False"
            ]
          },
          "metadata": {},
          "execution_count": 14
        }
      ],
      "source": [
        "winChecker()"
      ]
    },
    {
      "cell_type": "code",
      "execution_count": 15,
      "metadata": {
        "id": "27TYKcS1ZEfb"
      },
      "outputs": [],
      "source": [
        "# made winchecker and board designer"
      ]
    },
    {
      "cell_type": "markdown",
      "metadata": {
        "id": "zdmYnbh0ZEfb"
      },
      "source": [
        "making move -- which takes input and check won or not on each move"
      ]
    },
    {
      "cell_type": "code",
      "execution_count": 16,
      "metadata": {
        "id": "H-M1yia7ZEfc"
      },
      "outputs": [],
      "source": [
        "def signChange():\n",
        "    global sign\n",
        "    if sign=='x':\n",
        "        sign='o'\n",
        "    else:\n",
        "        sign='x'"
      ]
    },
    {
      "cell_type": "code",
      "execution_count": 17,
      "metadata": {
        "id": "Hn_el8xSZEfc"
      },
      "outputs": [],
      "source": [
        "def move(point,sign):\n",
        "    locsmaker(point,sign)\n",
        "    board()\n",
        "    signChange()\n",
        "    return(winChecker())"
      ]
    },
    {
      "cell_type": "code",
      "execution_count": 18,
      "metadata": {
        "colab": {
          "base_uri": "https://localhost:8080/"
        },
        "id": "8uoswWCxZEfd",
        "outputId": "b396c32c-a2a6-4925-c2f3-95a3ed0819d3"
      },
      "outputs": [
        {
          "output_type": "execute_result",
          "data": {
            "text/plain": [
              "['x', 'o', 'x', ' ', ' ', ' ', ' ', ' ', ' ', ' ']"
            ]
          },
          "metadata": {},
          "execution_count": 18
        }
      ],
      "source": [
        "locs"
      ]
    },
    {
      "cell_type": "code",
      "execution_count": 19,
      "metadata": {
        "id": "zwqlnS1oZEfd"
      },
      "outputs": [],
      "source": [
        "def start():\n",
        "    \n",
        "    global locs\n",
        "    global sign\n",
        "    \n",
        "    locs=[]\n",
        "    \n",
        "    for _ in range(9):\n",
        "        locs.append(' ')\n",
        "\n",
        "    sign = 'x'"
      ]
    },
    {
      "cell_type": "code",
      "execution_count": 20,
      "metadata": {
        "id": "a9ih5nBDZEfe"
      },
      "outputs": [],
      "source": [
        "start()"
      ]
    },
    {
      "cell_type": "code",
      "execution_count": 21,
      "metadata": {
        "colab": {
          "base_uri": "https://localhost:8080/"
        },
        "id": "ulgL66q6ZEfe",
        "outputId": "bdab529d-7a9a-49a4-9d7f-efcc6764e628"
      },
      "outputs": [
        {
          "output_type": "execute_result",
          "data": {
            "text/plain": [
              "[' ', ' ', ' ', ' ', ' ', ' ', ' ', ' ', ' ']"
            ]
          },
          "metadata": {},
          "execution_count": 21
        }
      ],
      "source": [
        "locs"
      ]
    },
    {
      "cell_type": "code",
      "execution_count": 22,
      "metadata": {
        "colab": {
          "base_uri": "https://localhost:8080/",
          "height": 35
        },
        "id": "ZvJyiXavZEff",
        "outputId": "8dfb8b2c-6a43-45fe-e72d-83bc3642353c"
      },
      "outputs": [
        {
          "output_type": "execute_result",
          "data": {
            "application/vnd.google.colaboratory.intrinsic+json": {
              "type": "string"
            },
            "text/plain": [
              "'x'"
            ]
          },
          "metadata": {},
          "execution_count": 22
        }
      ],
      "source": [
        "sign"
      ]
    },
    {
      "cell_type": "code",
      "execution_count": 23,
      "metadata": {
        "id": "r_Jy5KtdZEff"
      },
      "outputs": [],
      "source": [
        "def inputinverter(n):\n",
        "    if n==4 or n==5 or n==6 :\n",
        "        return n\n",
        "    elif n<4:\n",
        "        return n+6\n",
        "    elif n>6:\n",
        "        return n-6\n",
        "        \n",
        "    "
      ]
    },
    {
      "cell_type": "markdown",
      "metadata": {
        "id": "pe5L14ljZEff"
      },
      "source": [
        "Use start and move to design ...."
      ]
    },
    {
      "cell_type": "code",
      "execution_count": 24,
      "metadata": {
        "id": "IHRa5vr2ZEfg"
      },
      "outputs": [],
      "source": [
        "def game():\n",
        "    flag=1\n",
        "    print('Welcome to tic-tac-toe')\n",
        "    print('Player 1: x   Player 2: o')\n",
        "    print('Player 1 has first chance')\n",
        "    start()\n",
        "    board()\n",
        "    t=1\n",
        "    for _ in range(9):\n",
        "        if sign=='x':\n",
        "            t=1\n",
        "        else:\n",
        "            t=2\n",
        "        print(f'player {t} has chance')\n",
        "        c=int(input())\n",
        "        c=inputinverter(c)\n",
        "        if move(c,sign):\n",
        "            print(f'Player {t} has won')\n",
        "            flag=0\n",
        "            return t\n",
        "            \n",
        "    if flag==1:\n",
        "        print('DRAW')\n",
        "        return 0    "
      ]
    },
    {
      "cell_type": "code",
      "execution_count": 25,
      "metadata": {
        "id": "Ky0XE5HSZEfg"
      },
      "outputs": [],
      "source": [
        "#print(game())"
      ]
    },
    {
      "cell_type": "markdown",
      "source": [
        "**TIC TAC TOE**"
      ],
      "metadata": {
        "id": "M5OgQRKpaGah"
      }
    },
    {
      "cell_type": "code",
      "execution_count": 26,
      "metadata": {
        "colab": {
          "base_uri": "https://localhost:8080/"
        },
        "id": "YE5krQO0ZEfh",
        "outputId": "0f567db5-7df2-4bae-e0cd-5284a868be58"
      },
      "outputs": [
        {
          "output_type": "stream",
          "name": "stdout",
          "text": [
            "WELCOME\n",
            "Enter name: \n",
            "Kathan\n",
            "Enter name: \n",
            "Karan\n",
            "Kathan as Player 1 and Karan as Player 2\n",
            "Welcome to tic-tac-toe\n",
            "Player 1: x   Player 2: o\n",
            "Player 1 has first chance\n",
            " __ __ __\n",
            "|  |  |  |\n",
            "|__|__|__|\n",
            "|  |  |  |\n",
            "|__|__|__|\n",
            "|  |  |  |\n",
            "|__|__|__|\n",
            "player 1 has chance\n",
            "1\n",
            " __ __ __\n",
            "|  |  |  |\n",
            "|__|__|__|\n",
            "|  |  |  |\n",
            "|__|__|__|\n",
            "|x |  |  |\n",
            "|__|__|__|\n",
            "player 2 has chance\n",
            "2\n",
            " __ __ __\n",
            "|  |  |  |\n",
            "|__|__|__|\n",
            "|  |  |  |\n",
            "|__|__|__|\n",
            "|x |o |  |\n",
            "|__|__|__|\n",
            "player 1 has chance\n",
            "4\n",
            " __ __ __\n",
            "|  |  |  |\n",
            "|__|__|__|\n",
            "|x |  |  |\n",
            "|__|__|__|\n",
            "|x |o |  |\n",
            "|__|__|__|\n",
            "player 2 has chance\n",
            "3\n",
            " __ __ __\n",
            "|  |  |  |\n",
            "|__|__|__|\n",
            "|x |  |  |\n",
            "|__|__|__|\n",
            "|x |o |o |\n",
            "|__|__|__|\n",
            "player 1 has chance\n",
            "7\n",
            " __ __ __\n",
            "|x |  |  |\n",
            "|__|__|__|\n",
            "|x |  |  |\n",
            "|__|__|__|\n",
            "|x |o |o |\n",
            "|__|__|__|\n",
            "Player 1 has won\n",
            "Scores\n",
            "Kathan --> 1\n",
            "Karan --> 0\n",
            "Wanna play more?y/n\n",
            "n\n",
            "Kathan won the match\n",
            "GOOD BYE\n"
          ]
        }
      ],
      "source": [
        "#tic tac toe\n",
        "print('WELCOME')\n",
        "s1=0\n",
        "s2=0\n",
        "var=1\n",
        "choice='y'\n",
        "print('Enter name: ')\n",
        "n1=input()\n",
        "print('Enter name: ')\n",
        "n2=input()\n",
        "\n",
        "while choice=='y' :\n",
        "    if var==1:\n",
        "        print(f'{n1} as Player 1 and {n2} as Player 2')\n",
        "        temp=game()\n",
        "        if temp==1:\n",
        "            s1=s1+1\n",
        "        elif temp==2:\n",
        "            s2=s2+1\n",
        "        print('Scores')\n",
        "        print(f'{n1} --> {s1}')\n",
        "        print(f'{n2} --> {s2}')\n",
        "        var=2\n",
        "    \n",
        "    else :\n",
        "        print(f'{n2} as Player 1 and {n1} as Player 2')\n",
        "        temp=game()\n",
        "        if temp==1:\n",
        "            s2=s2+1\n",
        "        elif temp==2:\n",
        "            s1=s1+1\n",
        "        print('Scores')\n",
        "        print(f'{n1} --> {s1}')\n",
        "        print(f'{n2} --> {s2}')\n",
        "        var=1\n",
        "\n",
        "    print('Wanna play more?y/n')\n",
        "    choice=input()\n",
        "    \n",
        "if s1>s2:\n",
        "    print(f'{n1} won the match')\n",
        "elif s2>s1:\n",
        "    print(f'{n2} won the match')\n",
        "else:\n",
        "    print('Match Drawn')\n",
        "    \n",
        "print('GOOD BYE')"
      ]
    }
  ],
  "metadata": {
    "kernelspec": {
      "display_name": "Python 3",
      "language": "python",
      "name": "python3"
    },
    "language_info": {
      "codemirror_mode": {
        "name": "ipython",
        "version": 3
      },
      "file_extension": ".py",
      "mimetype": "text/x-python",
      "name": "python",
      "nbconvert_exporter": "python",
      "pygments_lexer": "ipython3",
      "version": "3.7.3"
    },
    "colab": {
      "name": "Tic Tac Toe.ipynb",
      "provenance": []
    }
  },
  "nbformat": 4,
  "nbformat_minor": 0
}